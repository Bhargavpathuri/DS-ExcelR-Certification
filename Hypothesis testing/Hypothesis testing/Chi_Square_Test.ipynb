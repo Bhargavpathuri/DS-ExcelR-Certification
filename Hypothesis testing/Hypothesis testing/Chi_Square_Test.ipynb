{
  "nbformat": 4,
  "nbformat_minor": 0,
  "metadata": {
    "colab": {
      "provenance": []
    },
    "kernelspec": {
      "name": "python3",
      "display_name": "Python 3"
    },
    "language_info": {
      "name": "python"
    }
  },
  "cells": [
    {
      "cell_type": "code",
      "execution_count": 1,
      "metadata": {
        "colab": {
          "base_uri": "https://localhost:8080/"
        },
        "id": "SN6UNuSgHgJG",
        "outputId": "95e04123-5b15-48df-d6b2-a33697d66dba"
      },
      "outputs": [
        {
          "output_type": "stream",
          "name": "stdout",
          "text": [
            "\n",
            "Chi-Square Test for Independence\n",
            "\n",
            "Hypotheses:\n",
            "H0: There is no association between the type of smart home device and customer satisfaction.\n",
            "H1: There is an association between the type of smart home device and customer satisfaction.\n",
            "\n",
            "Observed Data:\n",
            "[[ 50  70]\n",
            " [ 80 100]\n",
            " [ 60  90]\n",
            " [ 30  50]\n",
            " [ 20  50]]\n",
            "\n",
            "Expected Data (Under H0):\n",
            "[[ 48.  72.]\n",
            " [ 72. 108.]\n",
            " [ 60.  90.]\n",
            " [ 32.  48.]\n",
            " [ 28.  42.]]\n",
            "\n",
            "Chi-Square Statistic: 5.6382\n",
            "Degrees of Freedom: 4\n",
            "Critical Value (alpha=0.05): 9.4877\n",
            "P-Value: 0.2278\n",
            "\n",
            "Decision:\n",
            "Fail to reject the null hypothesis. There is no significant association between device type and customer satisfaction.\n",
            "\n"
          ]
        }
      ],
      "source": [
        "import numpy as np\n",
        "from scipy.stats import chi2_contingency, chi2\n",
        "\n",
        "# Step 1: Stateing the Hypotheses\n",
        "# Null Hypothesis (H0): There is no association between the type of smart home device and customer satisfaction.\n",
        "# Alternative Hypothesis (H1): There is an association between the type of smart home device and customer satisfaction.\n",
        "\n",
        "# Step 2: Input Data\n",
        "# Contingency table based on the provided data\n",
        "observed = np.array([\n",
        "    [50, 70],  # Very Satisfied\n",
        "    [80, 100],  # Satisfied\n",
        "    [60, 90],  # Neutral\n",
        "    [30, 50],  # Unsatisfied\n",
        "    [20, 50]   # Very Unsatisfied\n",
        "])\n",
        "\n",
        "# Step 3: Computeing the Chi-Square Statistic\n",
        "chi2_stat, p_value, dof, expected = chi2_contingency(observed)\n",
        "\n",
        "# Step 4: Determineing the Critical Value\n",
        "alpha = 0.05\n",
        "critical_value = chi2.ppf(1 - alpha, dof)\n",
        "\n",
        "# Step 5: Makeing a Decision\n",
        "if chi2_stat > critical_value:\n",
        "    decision = \"Reject the null hypothesis. There is a significant association between device type and customer satisfaction.\"\n",
        "else:\n",
        "    decision = \"Fail to reject the null hypothesis. There is no significant association between device type and customer satisfaction.\"\n",
        "\n",
        "# Detailed Report\n",
        "report = f\"\"\"\n",
        "Chi-Square Test for Independence\n",
        "\n",
        "Hypotheses:\n",
        "H0: There is no association between the type of smart home device and customer satisfaction.\n",
        "H1: There is an association between the type of smart home device and customer satisfaction.\n",
        "\n",
        "Observed Data:\n",
        "{observed}\n",
        "\n",
        "Expected Data (Under H0):\n",
        "{expected}\n",
        "\n",
        "Chi-Square Statistic: {chi2_stat:.4f}\n",
        "Degrees of Freedom: {dof}\n",
        "Critical Value (alpha={alpha}): {critical_value:.4f}\n",
        "P-Value: {p_value:.4f}\n",
        "\n",
        "Decision:\n",
        "{decision}\n",
        "\"\"\"\n",
        "\n",
        "# Printing the report\n",
        "print(report)\n",
        "\n",
        "# Saveing the report to a file\n",
        "with open(\"chi_square_test_report.txt\", \"w\") as file:\n",
        "    file.write(report)\n"
      ]
    },
    {
      "cell_type": "code",
      "source": [],
      "metadata": {
        "id": "4vaeRGQeJ72P"
      },
      "execution_count": null,
      "outputs": []
    }
  ]
}